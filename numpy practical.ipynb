{
 "cells": [
  {
   "cell_type": "code",
   "execution_count": 1,
   "metadata": {},
   "outputs": [
    {
     "name": "stdout",
     "output_type": "stream",
     "text": [
      "Original Array:\n",
      "[[ 86  84   1]\n",
      " [ 56  39   7]\n",
      " [100   1   2]]\n",
      "\n",
      "Transposed Array (Rows and Columns Interchanged):\n",
      "[[ 86  56 100]\n",
      " [ 84  39   1]\n",
      " [  1   7   2]]\n"
     ]
    }
   ],
   "source": [
    "#QUES1: Create a 3x3 NumPy array with random integers between 1 and 100. Then, interchange its rows and columns.\n",
    "import numpy as np\n",
    "\n",
    "# Create a 3x3 array with random integers between 1 and 100\n",
    "arr = np.random.randint(1, 101, size=(3, 3))\n",
    "print(\"Original Array:\")\n",
    "print(arr)\n",
    "\n",
    "# Interchange rows and columns (transpose)\n",
    "transposed_arr = arr.T\n",
    "print(\"\\nTransposed Array (Rows and Columns Interchanged):\")\n",
    "print(transposed_arr)\n"
   ]
  },
  {
   "cell_type": "code",
   "execution_count": 2,
   "metadata": {},
   "outputs": [
    {
     "name": "stdout",
     "output_type": "stream",
     "text": [
      "Original 1D Array:\n",
      "[ 1  2  3  4  5  6  7  8  9 10]\n",
      "\n",
      "Reshaped into 2x5 Array:\n",
      "[[ 1  2  3  4  5]\n",
      " [ 6  7  8  9 10]]\n",
      "\n",
      "Reshaped into 5x2 Array:\n",
      "[[ 1  2]\n",
      " [ 3  4]\n",
      " [ 5  6]\n",
      " [ 7  8]\n",
      " [ 9 10]]\n"
     ]
    }
   ],
   "source": [
    "#Ques2:Generate a 1D NumPy array with 10 elements. Reshape it into a 2x5 array, then into a 5x2 array.\n",
    "import numpy as np\n",
    "\n",
    "# Generate a 1D array with 10 elements\n",
    "arr = np.arange(1, 11)\n",
    "print(\"Original 1D Array:\")\n",
    "print(arr)\n",
    "\n",
    "# Reshape it into a 2x5 array\n",
    "arr_2x5 = arr.reshape(2, 5)\n",
    "print(\"\\nReshaped into 2x5 Array:\")\n",
    "print(arr_2x5)\n",
    "\n",
    "# Reshape it into a 5x2 array\n",
    "arr_5x2 = arr.reshape(5, 2)\n",
    "print(\"\\nReshaped into 5x2 Array:\")\n",
    "print(arr_5x2)\n"
   ]
  },
  {
   "cell_type": "code",
   "execution_count": 3,
   "metadata": {},
   "outputs": [
    {
     "name": "stdout",
     "output_type": "stream",
     "text": [
      "Original 4x4 Array:\n",
      "[[0.29453086 0.39342848 0.25531816 0.0564752 ]\n",
      " [0.28005202 0.81462318 0.33876838 0.23270514]\n",
      " [0.24572668 0.22350886 0.71042681 0.8022362 ]\n",
      " [0.09321324 0.59940346 0.06198024 0.36485345]]\n",
      "\n",
      "6x6 Array with Border of Zeros:\n",
      "[[0.         0.         0.         0.         0.         0.        ]\n",
      " [0.         0.29453086 0.39342848 0.25531816 0.0564752  0.        ]\n",
      " [0.         0.28005202 0.81462318 0.33876838 0.23270514 0.        ]\n",
      " [0.         0.24572668 0.22350886 0.71042681 0.8022362  0.        ]\n",
      " [0.         0.09321324 0.59940346 0.06198024 0.36485345 0.        ]\n",
      " [0.         0.         0.         0.         0.         0.        ]]\n"
     ]
    }
   ],
   "source": [
    "#Ques3: Create a 4x4 NumPy array with random float values. Add a border of zeros around it, resulting in a 6x6 array.\n",
    "import numpy as np\n",
    "\n",
    "# Create a 4x4 array with random float values between 0 and 1\n",
    "arr = np.random.random((4, 4))\n",
    "print(\"Original 4x4 Array:\")\n",
    "print(arr)\n",
    "\n",
    "# Add a border of zeros around the array, resulting in a 6x6 array\n",
    "arr_with_border = np.pad(arr, pad_width=1, mode='constant', constant_values=0)\n",
    "print(\"\\n6x6 Array with Border of Zeros:\")\n",
    "print(arr_with_border)\n"
   ]
  },
  {
   "cell_type": "code",
   "execution_count": 4,
   "metadata": {},
   "outputs": [
    {
     "name": "stdout",
     "output_type": "stream",
     "text": [
      "[10 15 20 25 30 35 40 45 50 55 60]\n"
     ]
    }
   ],
   "source": [
    "#Ques4:Using NumPy, create an array of integers from 10 to 60 with a step of 5.\n",
    "import numpy as np\n",
    "\n",
    "# Create an array from 10 to 60 with a step of 5\n",
    "arr = np.arange(10, 61, 5)\n",
    "print(arr)\n"
   ]
  },
  {
   "cell_type": "code",
   "execution_count": 5,
   "metadata": {},
   "outputs": [
    {
     "name": "stdout",
     "output_type": "stream",
     "text": [
      "Original Array:\n",
      "['python' 'numpy' 'pandas']\n",
      "\n",
      "Uppercase Array:\n",
      "['PYTHON' 'NUMPY' 'PANDAS']\n",
      "\n",
      "Lowercase Array:\n",
      "['python' 'numpy' 'pandas']\n",
      "\n",
      "Titlecase Array:\n",
      "['Python' 'Numpy' 'Pandas']\n"
     ]
    }
   ],
   "source": [
    "#Ques5:. Create a NumPy array of strings ['python', 'numpy', 'pandas']. Apply different case transformations\n",
    "#(uppercase, lowercase, title case, etc.) to each element.\n",
    "import numpy as np\n",
    "\n",
    "# Create a NumPy array of strings\n",
    "arr = np.array(['python', 'numpy', 'pandas'])\n",
    "\n",
    "# Apply different case transformations\n",
    "uppercase_arr = np.char.upper(arr)  # Convert to uppercase\n",
    "lowercase_arr = np.char.lower(arr)  # Convert to lowercase\n",
    "titlecase_arr = np.char.title(arr)  # Convert to title case\n",
    "\n",
    "# Print the results\n",
    "print(\"Original Array:\")\n",
    "print(arr)\n",
    "print(\"\\nUppercase Array:\")\n",
    "print(uppercase_arr)\n",
    "print(\"\\nLowercase Array:\")\n",
    "print(lowercase_arr)\n",
    "print(\"\\nTitlecase Array:\")\n",
    "print(titlecase_arr)\n"
   ]
  },
  {
   "cell_type": "code",
   "execution_count": null,
   "metadata": {},
   "outputs": [
    {
     "name": "stdout",
     "output_type": "stream",
     "text": [
      "['p y t h o n' 'n u m p y' 'p a n d a s']\n"
     ]
    }
   ],
   "source": [
    "#Ques6:Generate a NumPy array of words. Insert a space between each character of every word in the array.\n",
    "import numpy as np\n",
    "\n",
    "# Create a NumPy array of words\n",
    "arr = np.array(['python', 'numpy', 'pandas'])\n",
    "\n",
    "# Insert a space between each character of every word\n",
    "arr_with_spaces = np.char.join(' ', arr)\n",
    "\n",
    "# Print the result\n",
    "print(arr_with_spaces)\n"
   ]
  },
  {
   "cell_type": "code",
   "execution_count": 7,
   "metadata": {},
   "outputs": [
    {
     "name": "stdout",
     "output_type": "stream",
     "text": [
      "Array 1:\n",
      "[[1 2 3]\n",
      " [4 5 6]]\n",
      "\n",
      "Array 2:\n",
      "[[6 5 4]\n",
      " [3 2 1]]\n",
      "\n",
      "Element-wise Addition:\n",
      "[[7 7 7]\n",
      " [7 7 7]]\n",
      "\n",
      "Element-wise Subtraction:\n",
      "[[-5 -3 -1]\n",
      " [ 1  3  5]]\n",
      "\n",
      "Element-wise Multiplication:\n",
      "[[ 6 10 12]\n",
      " [12 10  6]]\n",
      "\n",
      "Element-wise Division:\n",
      "[[0.16666667 0.4        0.75      ]\n",
      " [1.33333333 2.5        6.        ]]\n"
     ]
    }
   ],
   "source": [
    "#Ques7:Create two 2D NumPy arrays and perform element-wise addition, subtraction, multiplication, and division.\n",
    "import numpy as np\n",
    "\n",
    "# Create two 2D NumPy arrays\n",
    "arr1 = np.array([[1, 2, 3], [4, 5, 6]])\n",
    "arr2 = np.array([[6, 5, 4], [3, 2, 1]])\n",
    "\n",
    "# Element-wise addition\n",
    "addition_result = arr1 + arr2\n",
    "\n",
    "# Element-wise subtraction\n",
    "subtraction_result = arr1 - arr2\n",
    "\n",
    "# Element-wise multiplication\n",
    "multiplication_result = arr1 * arr2\n",
    "\n",
    "# Element-wise division\n",
    "division_result = arr1 / arr2\n",
    "\n",
    "# Print the results\n",
    "print(\"Array 1:\")\n",
    "print(arr1)\n",
    "print(\"\\nArray 2:\")\n",
    "print(arr2)\n",
    "\n",
    "print(\"\\nElement-wise Addition:\")\n",
    "print(addition_result)\n",
    "\n",
    "print(\"\\nElement-wise Subtraction:\")\n",
    "print(subtraction_result)\n",
    "\n",
    "print(\"\\nElement-wise Multiplication:\")\n",
    "print(multiplication_result)\n",
    "\n",
    "print(\"\\nElement-wise Division:\")\n",
    "print(division_result)\n"
   ]
  },
  {
   "cell_type": "code",
   "execution_count": 8,
   "metadata": {},
   "outputs": [
    {
     "name": "stdout",
     "output_type": "stream",
     "text": [
      "5x5 Identity Matrix:\n",
      "[[1. 0. 0. 0. 0.]\n",
      " [0. 1. 0. 0. 0.]\n",
      " [0. 0. 1. 0. 0.]\n",
      " [0. 0. 0. 1. 0.]\n",
      " [0. 0. 0. 0. 1.]]\n",
      "\n",
      "Diagonal Elements:\n",
      "[1. 1. 1. 1. 1.]\n"
     ]
    }
   ],
   "source": [
    "#Ques8:Use NumPy to create a 5x5 identity matrix, then extract its diagonal elements\n",
    "import numpy as np\n",
    "\n",
    "# Create a 5x5 identity matrix\n",
    "identity_matrix = np.eye(5)\n",
    "print(\"5x5 Identity Matrix:\")\n",
    "print(identity_matrix)\n",
    "\n",
    "# Extract the diagonal elements\n",
    "diagonal_elements = np.diagonal(identity_matrix)\n",
    "print(\"\\nDiagonal Elements:\")\n",
    "print(diagonal_elements)\n"
   ]
  },
  {
   "cell_type": "code",
   "execution_count": 9,
   "metadata": {},
   "outputs": [
    {
     "name": "stdout",
     "output_type": "stream",
     "text": [
      "Array of 100 random integers:\n",
      "[559 808 708 687 501  39  67 978 922 244 340 499 904 454 650 578  15 236\n",
      " 253 706 741 995 209 689 853 998 351 291 230 396 387 726 973 134  10 333\n",
      " 580 924 244 253 142 460 700 105 463 243 977 156 405 859 210 897 351 849\n",
      "  25 974  10 990 182 840 236 559 867 253 705 304 747 434 933 665  38  24\n",
      "  99 816 165 990 224 911 749 486 338 204 535 896 314 880 179 469 740 246\n",
      " 506 795 917 204 979 565 752 691 320 504]\n",
      "\n",
      "Prime numbers in the array:\n",
      "[np.int32(67), np.int32(499), np.int32(853), np.int32(463), np.int32(977), np.int32(859), np.int32(911), np.int32(179), np.int32(691)]\n"
     ]
    }
   ],
   "source": [
    "#Ques9:Generate a NumPy array of 100 random integers between 0 and 1000. Find and display all prime numbers in\n",
    "#this array\\\n",
    "import numpy as np\n",
    "\n",
    "# Function to check if a number is prime\n",
    "def is_prime(num):\n",
    "    if num < 2:\n",
    "        return False\n",
    "    for i in range(2, int(num**0.5) + 1):\n",
    "        if num % i == 0:\n",
    "            return False\n",
    "    return True\n",
    "\n",
    "# Generate a NumPy array of 100 random integers between 0 and 1000\n",
    "arr = np.random.randint(0, 1001, 100)\n",
    "\n",
    "# Find the prime numbers in the array\n",
    "prime_numbers = [num for num in arr if is_prime(num)]\n",
    "\n",
    "# Display the array and the prime numbers\n",
    "print(\"Array of 100 random integers:\")\n",
    "print(arr)\n",
    "\n",
    "print(\"\\nPrime numbers in the array:\")\n",
    "print(prime_numbers)\n"
   ]
  },
  {
   "cell_type": "code",
   "execution_count": null,
   "metadata": {},
   "outputs": [
    {
     "name": "stdout",
     "output_type": "stream",
     "text": [
      "Daily Temperatures for the Month:\n",
      "[24 25 29 18 28 23 26 19 33 19 30 17 18 30 29 17 28 21 31 15 32 17 21 29\n",
      " 32 21 18 22 21 31]\n",
      "\n",
      "Weekly Averages:\n",
      "[24.5        24.         23.83333333 24.16666667 24.16666667]\n"
     ]
    }
   ],
   "source": [
    "#Ques10:Create a NumPy array representing daily temperatures for a month. Calculate and display the weekly\n",
    "#averages\n",
    "import numpy as np\n",
    "\n",
    "# Create a NumPy array representing daily temperatures for a month (30 days)\n",
    "daily_temperatures = np.random.randint(15, 35, size=30)  # Random temperatures between 15°C and 35°C\n",
    "\n",
    "# Reshape the array into 5 weeks (5 rows, 6 columns) and calculate weekly averages\n",
    "weekly_averages = daily_temperatures.reshape(5, 6).mean(axis=1)\n",
    "\n",
    "# Display the daily temperatures and weekly averages\n",
    "print(\"Daily Temperatures for the Month:\")\n",
    "print(daily_temperatures)\n",
    "\n",
    "print(\"\\nWeekly Averages:\")\n",
    "print(weekly_averages)\n"
   ]
  },
  {
   "cell_type": "code",
   "execution_count": null,
   "metadata": {},
   "outputs": [],
   "source": []
  }
 ],
 "metadata": {
  "kernelspec": {
   "display_name": "Python 3",
   "language": "python",
   "name": "python3"
  },
  "language_info": {
   "codemirror_mode": {
    "name": "ipython",
    "version": 3
   },
   "file_extension": ".py",
   "mimetype": "text/x-python",
   "name": "python",
   "nbconvert_exporter": "python",
   "pygments_lexer": "ipython3",
   "version": "3.12.6"
  }
 },
 "nbformat": 4,
 "nbformat_minor": 2
}
