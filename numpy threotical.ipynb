{
 "cells": [
  {
   "cell_type": "markdown",
   "metadata": {},
   "source": [
    "Ques1:. Explain the purpose and advantages of NumPy in scientific computing and data analysis. How does it\n",
    "enhance Python's capabilities for numerical operations?\n",
    "Ans:NumPy (Numerical Python) is a powerful library in Python that serves as a foundation for scientific computing and data analysis. It provides tools for efficient manipulation of numerical data and is widely used in fields like data science, machine learning, physics, and engineering. Here's a detailed explanation of its purpose and advantages:\n",
    "\n",
    "---\n",
    "\n",
    "Purpose of NumPy:\n",
    "1. Efficient Numerical Computation:\n",
    "   NumPy enables fast and efficient computation of numerical operations using its highly optimized C-based implementation.\n",
    "   \n",
    "2. Support for Multi-dimensional Arrays:\n",
    "   The `ndarray` object is the core data structure of NumPy, allowing the storage and manipulation of multi-dimensional data in a highly organized and efficient manner.\n",
    "\n",
    "3. Mathematical and Statistical Functions:\n",
    "   NumPy provides a rich set of mathematical functions, including linear algebra, random number generation, and Fourier transforms.\n",
    "\n",
    "4. Integration with Other Libraries:\n",
    "   NumPy is foundational for other Python libraries like pandas, scikit-learn, TensorFlow, and SciPy, which rely on NumPy arrays for data handling.\n",
    "\n",
    "---\n",
    "\n",
    " Advantages of NumPy\n",
    "1. Performance:\n",
    "   Speed: NumPy arrays are much faster than Python lists for numerical operations due to their contiguous memory storage and use of vectorized operations.\n",
    "   Memory Efficiency: NumPy arrays require less memory compared to Python lists for storing data of the same type.\n",
    "\n",
    "2. Ease of Use:\n",
    "   Intuitive Syntax: Provides a convenient and clean syntax for mathematical operations (e.g., element-wise addition and multiplication).\n",
    "   Broadcasting: Allows operations between arrays of different shapes without explicit iteration.\n",
    "\n",
    "3. Extensive Functionality:\n",
    "   Array Manipulation: Tools for reshaping, slicing, stacking, and splitting arrays.\n",
    "   Mathematical Operations: Functions for arithmetic, trigonometry, statistics, linear algebra, and more.\n",
    "\n",
    "4. Integration and Interoperability:\n",
    "   - Easily integrates with other Python libraries for advanced applications.\n",
    "   - Provides functionality to import/export data in formats like CSV, text files, and binary data.\n",
    "\n",
    "5. Flexibility in Data Handling:\n",
    "   - Supports a variety of data types, such as integers, floats, and complex numbers, and allows explicit type specification.\n",
    "\n",
    "---\n",
    "\n",
    "How NumPy Enhances Python's Capabilities for Numerical Operations\n",
    "1. Vectorized Operations:\n",
    "   NumPy replaces explicit loops with vectorized operations, enabling efficient execution of mathematical computations across entire arrays. For example:\n",
    "\n",
    "   ```python\n",
    "   import numpy as np\n",
    "\n",
    "   # Element-wise addition\n",
    "   a = np.array([1, 2, 3])\n",
    "   b = np.array([4, 5, 6])\n",
    "   c = a + b  # [5, 7, 9]\n",
    "   ```\n",
    "\n",
    "2. Multi-dimensional Data Handling:\n",
    "   Unlike Python's lists, NumPy's `ndarray` can handle multi-dimensional arrays seamlessly, making it suitable for matrix and tensor computations.\n",
    "\n",
    "3. Scientific Libraries Dependence:\n",
    "   NumPy arrays are the standard input/output data format for most Python scientific libraries, making it a bridge for complex numerical and machine-learning workflows.\n",
    "\n",
    "4. Reduction of Boilerplate Code:\n",
    "   NumPy provides high-level functions that eliminate the need for custom implementations of common mathematical routines, reducing code complexity.\n",
    "\n",
    "---\n",
    "\n"
   ]
  },
  {
   "cell_type": "code",
   "execution_count": null,
   "metadata": {},
   "outputs": [
    {
     "name": "stdout",
     "output_type": "stream",
     "text": [
      "[5 7 9]\n"
     ]
    }
   ],
   "source": [
    "import numpy as np\n",
    "\n",
    "# Element-wise addition\n",
    "a = np.array([1, 2, 3])\n",
    "b = np.array([4, 5, 6])\n",
    "c = a + b  \n",
    "\n",
    "print(c)\n"
   ]
  },
  {
   "cell_type": "markdown",
   "metadata": {},
   "source": [
    "Ques2: Compare and contrast np.mean() and np.average() functions in NumPy. When would you use one over the\n",
    "other?\n",
    "Ans:In NumPy, both np.mean() and np.average() are used to compute the mean of an array, but they differ in functionality and use cases. Below is a detailed comparison and when to use each.\n",
    "1. np.mean()\n",
    "Definition:\n",
    "Calculates the arithmetic mean (average) of the elements along the specified axis of an array.\n",
    "\n",
    "Key Features:\n",
    "Uniform Weighting: Always computes the mean with equal weights for all elements.\n",
    "Simple Usage: Does not require additional parameters like weights.\n",
    "Axis Parameter: You can compute the mean along a specific axis or flatten the array before computation.\n",
    "#syntax:\n",
    "np.mean(a, axis=None, dtype=None, out=None, keepdims=False)\n",
    "\n"
   ]
  },
  {
   "cell_type": "code",
   "execution_count": 3,
   "metadata": {},
   "outputs": [
    {
     "name": "stdout",
     "output_type": "stream",
     "text": [
      "2.5\n"
     ]
    }
   ],
   "source": [
    "import numpy as np\n",
    "\n",
    "data = np.array([1, 2, 3, 4])\n",
    "mean_value = np.mean(data)\n",
    "print(mean_value)  \n"
   ]
  },
  {
   "cell_type": "markdown",
   "metadata": {},
   "source": [
    "2. np.average()\n",
    "Definition:\n",
    "Calculates the weighted average of the array elements. If no weights are provided, it behaves like np.mean().\n",
    "\n",
    "Key Features:\n",
    "Weighted Average: Accepts a weights parameter, which allows for weighted calculations.\n",
    "Flexibility: Useful when different elements contribute differently to the overall mean.\n",
    "Axis Parameter: Like np.mean(), you can specify the axis for computation"
   ]
  },
  {
   "cell_type": "code",
   "execution_count": 4,
   "metadata": {},
   "outputs": [
    {
     "data": {
      "text/plain": [
       "np.float64(2.0)"
      ]
     },
     "execution_count": 4,
     "metadata": {},
     "output_type": "execute_result"
    }
   ],
   "source": [
    "np.average(a, axis=None, weights=None, returned=False)\n"
   ]
  },
  {
   "cell_type": "code",
   "execution_count": 5,
   "metadata": {},
   "outputs": [
    {
     "name": "stdout",
     "output_type": "stream",
     "text": [
      "3.0\n"
     ]
    }
   ],
   "source": [
    "import numpy as np\n",
    "\n",
    "data = np.array([1, 2, 3, 4])\n",
    "weights = np.array([1, 2, 3, 4])\n",
    "weighted_mean = np.average(data, weights=weights)\n",
    "print(weighted_mean)  \n"
   ]
  },
  {
   "cell_type": "markdown",
   "metadata": {},
   "source": [
    "When to Use Each\n",
    "Use np.mean() When:\n",
    "\n",
    "You need a simple, unweighted arithmetic mean.\n",
    "There are no varying weights or contributions among elements.\n",
    "Performance is a priority (slightly faster due to lack of weight handling).\n",
    "\n",
    "Use np.average() When:\n",
    "\n",
    "You need a weighted mean.\n",
    "Specific elements have more importance or contribution than others.\n",
    "You want to retrieve both the weighted mean and the sum of weights for additional insights.\n"
   ]
  },
  {
   "cell_type": "markdown",
   "metadata": {},
   "source": [
    "Ques3: Describe the methods for reversing a NumPy array along different axes. Provide examples for 1D and 2D\n",
    "arrays.\n",
    "Ans:As we know Numpy is a general-purpose array-processing package that provides a high-performance multidimensional array object, and tools for working with these arrays. Let’s discuss how can we reverse a Numpy array. \n",
    "\n",
    "Using flip() function to Reverse a Numpy array\n",
    "The numpy.flip() function reverses the order of array elements along the specified axis, preserving the shape of the array.\n"
   ]
  },
  {
   "cell_type": "code",
   "execution_count": 6,
   "metadata": {},
   "outputs": [
    {
     "name": "stdout",
     "output_type": "stream",
     "text": [
      "final array [5 4 6 3 2 1]\n"
     ]
    }
   ],
   "source": [
    "import numpy as np\n",
    "\n",
    "# initialising numpy array\n",
    "ini_array = np.array([1, 2, 3, 6, 4, 5])\n",
    "\n",
    "# using shortcut method to reverse\n",
    "res = np.flip(ini_array)\n",
    "\n",
    "# printing result\n",
    "print(\"final array\", str(res))\n"
   ]
  },
  {
   "cell_type": "markdown",
   "metadata": {},
   "source": [
    "Using the list slicing method to reverse a Numpy array\n",
    "This method makes a copy of the list instead of sorting it in order. To accommodate all of the current components, making a clone requires additional room. More RAM is used up in this way. Here, we’re utilizing Python’s slicing method to invert our list."
   ]
  },
  {
   "cell_type": "code",
   "execution_count": 7,
   "metadata": {},
   "outputs": [
    {
     "name": "stdout",
     "output_type": "stream",
     "text": [
      "initial array [1 2 3 6 4 5]\n",
      "type of ini_array <class 'numpy.ndarray'>\n",
      "final array [5 4 6 3 2 1]\n"
     ]
    }
   ],
   "source": [
    "import numpy as np\n",
    "\n",
    "# initialising numpy array\n",
    "ini_array = np.array([1, 2, 3, 6, 4, 5])\n",
    "\n",
    "# printing initial ini_array\n",
    "print(\"initial array\", str(ini_array))\n",
    "\n",
    "# printing type of ini_array\n",
    "print(\"type of ini_array\", type(ini_array))\n",
    "\n",
    "# using shortcut method to reverse\n",
    "res = ini_array[::-1]\n",
    "\n",
    "# printing result\n",
    "print(\"final array\", str(res))\n"
   ]
  },
  {
   "cell_type": "markdown",
   "metadata": {},
   "source": [
    "Using flipud function to Reverse a Numpy array \n",
    "The numpy.flipud() function flips the array(entries in each column) in up-down direction, shape preserved"
   ]
  },
  {
   "cell_type": "code",
   "execution_count": 8,
   "metadata": {},
   "outputs": [
    {
     "name": "stdout",
     "output_type": "stream",
     "text": [
      "initial array [1 2 3 6 4 5]\n",
      "type of ini_array <class 'numpy.ndarray'>\n",
      "final array [5 4 6 3 2 1]\n"
     ]
    }
   ],
   "source": [
    "import numpy as np\n",
    "\n",
    "# initialising numpy array\n",
    "ini_array = np.array([1, 2, 3, 6, 4, 5])\n",
    "\n",
    "# printing initial ini_array\n",
    "print(\"initial array\", str(ini_array))\n",
    "\n",
    "# printing type of ini_array\n",
    "print(\"type of ini_array\", type(ini_array))\n",
    "\n",
    "# using flipud method to reverse\n",
    "res = np.flipud(ini_array)\n",
    "\n",
    "# printing result\n",
    "print(\"final array\", str(res))\n"
   ]
  },
  {
   "cell_type": "markdown",
   "metadata": {},
   "source": [
    "Ques4:How can you determine the data type of elements in a NumPy array? Discuss the importance of data types\n",
    "in memory management and performance?\n",
    "Ans:Checking the Data Type of NumPy Array\n",
    "We can check the datatype of Numpy array by using dtype. Then it returns the data type all the elements in the array. In the given example below we import NumPy library and craete an array using “array()” method with integer value. Then we store the data type of the array in a variable named “data_type” using the ‘dtype’ attribute, and after then we can finally, we print the data type"
   ]
  },
  {
   "cell_type": "code",
   "execution_count": 9,
   "metadata": {},
   "outputs": [
    {
     "name": "stdout",
     "output_type": "stream",
     "text": [
      "Data type: int64\n"
     ]
    }
   ],
   "source": [
    "# Import NumPy Module\n",
    "import numpy as np\n",
    "\n",
    "# Create a NumPy array\n",
    "arr = np.array([1, 2, 3, 4, 5])\n",
    "\n",
    "# Check the data type of the array\n",
    "data_type = arr.dtype\n",
    "print(\"Data type:\", data_type)\n"
   ]
  },
  {
   "cell_type": "markdown",
   "metadata": {},
   "source": [
    "Data types in NumPy are vital because they directly impact how efficiently data is stored and processed:\n",
    "\n",
    "1. Memory Management: Data types determine the amount of memory each element occupies. For example, `int8` uses 1 byte per element, while `int64` uses 8 bytes. Using smaller data types reduces memory usage, which is critical for handling large datasets efficiently.\n",
    "\n",
    "2. Performance Optimization: Smaller data types allow faster computations since they require less memory bandwidth and enable optimized processing by NumPy's underlying C libraries. For example, operations with `float32` are faster than with `float64` due to the reduced precision and memory size.\n",
    "\n",
    "3. Balancing Accuracy and Efficiency: Choosing the correct data type balances precision and performance. For instance, `float32` is sufficient for machine learning models, whereas `float64` is better for high-accuracy scientific calculations.\n",
    "\n",
    "By carefully selecting data types, you can minimize memory consumption, improve computation speed, and tailor the precision to meet the needs of your application."
   ]
  },
  {
   "cell_type": "markdown",
   "metadata": {},
   "source": [
    "Ques5:Define ndarrays in NumPy and explain their key features. How do they differ from standard Python lists?\n",
    "Ans: Definition of `ndarray` in NumPy:\n",
    "\n",
    "In NumPy, an ndarray (N-dimensional array) is a powerful data structure used to store and manipulate multi-dimensional numerical data. It is the core object in NumPy and provides functionalities for efficient mathematical operations, array manipulations, and more.\n",
    "\n",
    "\n",
    "\n",
    " Key Features of `ndarray`:\n",
    "\n",
    "1. Homogeneous Data:\n",
    "   All elements in an `ndarray` must have the same data type (`dtype`), ensuring consistency and optimized storage.\n",
    "\n",
    "2. Support for Multi-Dimensional Data:\n",
    "    Unlike Python lists, `ndarray` can represent data in multiple dimensions (e.g., 1D, 2D, 3D, etc.), making it suitable for tasks like image processing, matrix computations, and more.\n",
    "\n",
    "3. Efficient Memory Management:\n",
    "   `ndarray` uses a contiguous memory block for storage, allowing faster access and reducing overhead compared to Python lists.\n",
    "\n",
    "4. Vectorized Operations:\n",
    "    Supports element-wise operations and broadcasting without explicit loops, enabling efficient computations.\n",
    "\n",
    "5. Rich Mathematical Functionality:\n",
    "   Includes a wide range of mathematical and statistical operations like sum, mean, matrix multiplication, etc.\n",
    "\n",
    "6. Indexing and Slicing:\n",
    "    Provides advanced slicing and indexing techniques for accessing and manipulating data.\n",
    "\n",
    "7. Flexibility in Data Manipulation:\n",
    "   - Supports reshaping, transposing, and stacking arrays, among other operations.\n",
    "\n",
    "8. Integration with Other Libraries:\n",
    "   - Serves as the foundational data structure for many scientific and machine learning libraries like pandas, TensorFlow, and SciPy.\n",
    "\n",
    "\n",
    "\n",
    " Differences Between `ndarray` and Python Lists:\n",
    "\n",
    "| Feature               | NumPy `ndarray`                      | Python List                         |\n",
    "|-----------------------|---------------------------------------|-------------------------------------|\n",
    "| Homogeneity      | Homogeneous (all elements have the same type). | Heterogeneous (can store elements of different types). |\n",
    "| Memory Efficiency | Stores elements in a contiguous memory block for efficient access. | Stores pointers to objects, leading to higher memory overhead. |\n",
    "| Performance      | Faster due to optimized C-based operations and vectorization. | Slower for numerical computations due to Python's loop overhead. |\n",
    "| Multi-dimensional Support :| Built-in support for N-dimensional arrays. | Requires nested lists, which are less intuitive and less efficient. |\n",
    "| Mathematical Operations: | Supports element-wise and matrix operations directly. | Requires manual implementation with loops or external libraries. |\n",
    "| Indexing:          | Advanced slicing and broadcasting capabilities. | Limited slicing with no broadcasting. |\n",
    "| Type Safety:       | Enforces a single data type (`dtype`) across elements. | Allows mixed data types, which can lead to unexpected behavior. |\n",
    "\n",
    "\n",
    "\n"
   ]
  },
  {
   "cell_type": "code",
   "execution_count": 10,
   "metadata": {},
   "outputs": [
    {
     "name": "stdout",
     "output_type": "stream",
     "text": [
      "[[1 2 3]\n",
      " [4 5 6]]\n",
      "int64\n",
      "(2, 3)\n",
      "[[11 12 13]\n",
      " [14 15 16]]\n"
     ]
    }
   ],
   "source": [
    "#example:\n",
    "import numpy as np\n",
    "\n",
    "arr = np.array([[1, 2, 3], [4, 5, 6]])\n",
    "print(arr)             # 2D array\n",
    "print(arr.dtype)        # Data type: int32 or int64\n",
    "print(arr.shape)        # Shape: (2, 3)\n",
    "print(arr + 10)         # Element-wise addition\n"
   ]
  },
  {
   "cell_type": "code",
   "execution_count": 11,
   "metadata": {},
   "outputs": [
    {
     "name": "stdout",
     "output_type": "stream",
     "text": [
      "[[1, 2, 3], [4, 5, 6]]\n",
      "[[11, 12, 13], [14, 15, 16]]\n"
     ]
    }
   ],
   "source": [
    "lst = [[1, 2, 3], [4, 5, 6]]\n",
    "print(lst)             # Nested list\n",
    "# Adding 10 to each element requires loops\n",
    "result = [[x + 10 for x in row] for row in lst]\n",
    "print(result)\n"
   ]
  },
  {
   "cell_type": "markdown",
   "metadata": {},
   "source": [
    "Ques6:Analyze the performance benefits of NumPy arrays over Python lists for large-scale numerical operations.\n",
    "Ans:NumPy arrays are much faster and more memory-efficient than Python lists for large-scale numerical tasks because:\n",
    "\n",
    "1. Homogeneous Data: NumPy arrays store data of the same type, reducing memory usage and speeding up computations.\n",
    "2. Vectorized Operations: You can perform element-wise operations directly without loops, saving time.\n",
    "3. Contiguous Memory: Arrays are stored in one block, making access faster than scattered references in lists.\n",
    "4. Broadcasting: NumPy handles arrays of different shapes easily without manual adjustments.\n",
    "5. Backend Optimization: NumPy uses precompiled C libraries, making operations much faster than Python's interpreted code.\n",
    "\n"
   ]
  },
  {
   "cell_type": "code",
   "execution_count": 12,
   "metadata": {},
   "outputs": [],
   "source": [
    "import numpy as np\n",
    "\n",
    "arr = np.arange(1_000_000)\n",
    "result = arr * 2  # Fast vectorized operation\n",
    "\n",
    "lst = list(range(1_000_000))\n",
    "result_lst = [x * 2 for x in lst]  # Slow manual loop\n"
   ]
  },
  {
   "cell_type": "code",
   "execution_count": 13,
   "metadata": {},
   "outputs": [
    {
     "name": "stdout",
     "output_type": "stream",
     "text": [
      "NumPy Time: 0.019974470138549805\n",
      "Python List Time: 0.2526094913482666\n"
     ]
    }
   ],
   "source": [
    "import time\n",
    "\n",
    "# NumPy operation timing\n",
    "start = time.time()\n",
    "arr = np.arange(1_000_000)\n",
    "result = arr * 2\n",
    "print(\"NumPy Time:\", time.time() - start)\n",
    "\n",
    "# Python list operation timing\n",
    "start = time.time()\n",
    "lst = list(range(1_000_000))\n",
    "result_lst = [x * 2 for x in lst]\n",
    "print(\"Python List Time:\", time.time() - start)\n"
   ]
  },
  {
   "cell_type": "markdown",
   "metadata": {},
   "source": [
    "Ques7:Compare vstack() and hstack() functions in NumPy. Provide examples demonstrating their usage and\n",
    "output.\n",
    "Ans:Difference Between vstack() and hstack()\n",
    "vstack() (Vertical Stack):\n",
    "\n",
    "Stacks arrays on top of each other (row-wise).\n",
    "Requires the same number of columns."
   ]
  },
  {
   "cell_type": "code",
   "execution_count": 14,
   "metadata": {},
   "outputs": [
    {
     "name": "stdout",
     "output_type": "stream",
     "text": [
      "[[1 2]\n",
      " [3 4]\n",
      " [5 6]\n",
      " [7 8]]\n"
     ]
    }
   ],
   "source": [
    "#example\n",
    "import numpy as np\n",
    "arr1 = np.array([[1, 2], [3, 4]])\n",
    "arr2 = np.array([[5, 6], [7, 8]])\n",
    "result = np.vstack((arr1, arr2))\n",
    "print(result)\n"
   ]
  },
  {
   "cell_type": "code",
   "execution_count": 15,
   "metadata": {},
   "outputs": [
    {
     "name": "stdout",
     "output_type": "stream",
     "text": [
      "[[1 2 5 6]\n",
      " [3 4 7 8]]\n"
     ]
    }
   ],
   "source": [
    "#hstack() (Horizontal Stack):\n",
    "\n",
    "#Stacks arrays side by side (column-wise).\n",
    "#Requires the same number of rows.\n",
    "#examples:\n",
    "result = np.hstack((arr1, arr2))\n",
    "print(result)\n"
   ]
  },
  {
   "cell_type": "markdown",
   "metadata": {},
   "source": [
    "Ques8:Explain the differences between fliplr() and flipud() methods in NumPy, including their effects on various\n",
    "array dimensions.\n",
    "Ans:Differences Between fliplr() and flipud() in NumPy\n",
    "Both fliplr() and flipud() are used to flip arrays, but they operate on different axes:\n",
    "\n",
    "1. fliplr() (Flip Left to Right)\n",
    "Purpose: Reverses the order of columns in a 2D array (left-to-right flip).\n",
    "Effect: The rows remain unchanged, but the columns are reversed.\n",
    "Input Requirement: Works only on arrays with 2 or more dimensions."
   ]
  },
  {
   "cell_type": "code",
   "execution_count": 16,
   "metadata": {},
   "outputs": [
    {
     "name": "stdout",
     "output_type": "stream",
     "text": [
      "[[3 2 1]\n",
      " [6 5 4]\n",
      " [9 8 7]]\n"
     ]
    }
   ],
   "source": [
    "#example:\n",
    "import numpy as np\n",
    "\n",
    "arr = np.array([[1, 2, 3],\n",
    "                [4, 5, 6],\n",
    "                [7, 8, 9]])\n",
    "\n",
    "result = np.fliplr(arr)\n",
    "print(result)\n",
    "#each row is flipped horizontally"
   ]
  },
  {
   "cell_type": "markdown",
   "metadata": {},
   "source": [
    " flipud() (Flip Up to Down)\n",
    "Purpose: Reverses the order of rows in a 2D array (up-to-down flip).\n",
    "Effect: The columns remain unchanged, but the rows are reversed.\n",
    "Input Requirement: Works on arrays of any dimension"
   ]
  },
  {
   "cell_type": "code",
   "execution_count": 17,
   "metadata": {},
   "outputs": [
    {
     "name": "stdout",
     "output_type": "stream",
     "text": [
      "[[7 8 9]\n",
      " [4 5 6]\n",
      " [1 2 3]]\n"
     ]
    }
   ],
   "source": [
    "#examples:\n",
    "result = np.flipud(arr)\n",
    "print(result)\n",
    "#The array is flipped vertically, row-wise"
   ]
  },
  {
   "cell_type": "markdown",
   "metadata": {},
   "source": [
    "Effects on Different Dimensions\n",
    "1D Arrays:\n",
    "\n",
    "fliplr() cannot be applied (raises an error).\n",
    "flipud() works but has no visible effect (since there are no rows).\n",
    "2D Arrays:\n",
    "\n",
    "fliplr() flips columns.\n",
    "flipud() flips rows.\n",
    "Higher Dimensions:\n",
    "\n",
    "Both functions work on the first two axes (rows and columns), leaving other dimensions unaffected."
   ]
  },
  {
   "cell_type": "markdown",
   "metadata": {},
   "source": [
    "Ques9: Discuss the functionality of the array_split() method in NumPy. How does it handle uneven splits?\n",
    "Ans:array_split() Method in NumPy\n",
    "The array_split() method in NumPy is used to split an array into a specified number of smaller subarrays. It is especially useful when the array size is not evenly divisible by the number of splits.\n",
    "\n",
    "Key Features\n",
    "Splitting into Subarrays:\n",
    "\n",
    "Divides the array into approximately equal parts.\n",
    "Allows uneven splitting when the size of the array is not divisible by the number of splits.\n",
    "Handles Uneven Splits:\n",
    "\n",
    "If the array cannot be split evenly, the subarrays will differ in size.\n",
    "Larger subarrays are placed at the beginning of the result.\n",
    "Flexible Input:\n",
    "\n",
    "Works for both 1D and multi-dimensional arrays.\n",
    "The number of splits or indices for splits can be specified.\n",
    "syntax:np.array_split(array, num_splits)\n",
    "array: Input array to be split.\n",
    "num_splits: Number of subarrays or split indices."
   ]
  },
  {
   "cell_type": "code",
   "execution_count": null,
   "metadata": {},
   "outputs": [
    {
     "name": "stdout",
     "output_type": "stream",
     "text": [
      "[array([1, 2]), array([3, 4]), array([5])]\n"
     ]
    }
   ],
   "source": [
    "#handle uneven splits\n",
    "#examples: 1d array\n",
    "import numpy as np\n",
    "\n",
    "arr = np.array([1, 2, 3, 4, 5])\n",
    "result = np.array_split(arr, 3)  # Split into 3 parts\n",
    "print(result)\n"
   ]
  },
  {
   "cell_type": "code",
   "execution_count": 19,
   "metadata": {},
   "outputs": [
    {
     "name": "stdout",
     "output_type": "stream",
     "text": [
      "[[1 2]\n",
      " [3 4]]\n",
      "[[5 6]\n",
      " [7 8]]\n",
      "[[ 9 10]]\n"
     ]
    }
   ],
   "source": [
    "#2d array\n",
    "arr2d = np.array([[1, 2], [3, 4], [5, 6], [7, 8], [9, 10]])\n",
    "result = np.array_split(arr2d, 3)  # Split into 3 parts\n",
    "for part in result:\n",
    "    print(part)\n"
   ]
  },
  {
   "cell_type": "markdown",
   "metadata": {},
   "source": [
    "Ques10:Explain the concepts of vectorization and broadcasting in NumPy. How do they contribute to efficient array\n",
    "operations?\n",
    "Ans:. Vectorization\n",
    "What it does:\n",
    "Lets you apply operations to the whole array at once, instead of using loops.\n",
    "\n",
    "Why it’s better:\n",
    "\n",
    "Fast: Runs in optimized C code (no Python loops).\n",
    "Easy: Code is shorter and cleaner.\n",
    "Example: Without vectorization (using a loop):"
   ]
  },
  {
   "cell_type": "code",
   "execution_count": null,
   "metadata": {},
   "outputs": [
    {
     "name": "stdout",
     "output_type": "stream",
     "text": [
      "[np.int64(2), np.int64(4), np.int64(6)]\n"
     ]
    }
   ],
   "source": [
    "import numpy as np\n",
    "arr = np.array([1, 2, 3])\n",
    "result = [x * 2 for x in arr]\n",
    "print(result)  \n"
   ]
  },
  {
   "cell_type": "code",
   "execution_count": null,
   "metadata": {},
   "outputs": [
    {
     "name": "stdout",
     "output_type": "stream",
     "text": [
      "[2 4 6]\n"
     ]
    }
   ],
   "source": [
    "#with vectorization\n",
    "result = arr * 2\n",
    "print(result)  \n",
    "\n"
   ]
  },
  {
   "cell_type": "markdown",
   "metadata": {},
   "source": [
    "Broadcasting\n",
    "What it does:\n",
    "Lets you do operations on arrays of different shapes by automatically adjusting the smaller array.\n",
    "\n",
    "Why it’s better:\n",
    "\n",
    "Saves time: No need to manually resize arrays.\n",
    "Flexible: Handles mismatched shapes automatically.\n"
   ]
  },
  {
   "cell_type": "code",
   "execution_count": 22,
   "metadata": {},
   "outputs": [
    {
     "name": "stdout",
     "output_type": "stream",
     "text": [
      "[[3 4 5]\n",
      " [6 7 8]]\n"
     ]
    }
   ],
   "source": [
    "#example:\n",
    "arr = np.array([[1, 2, 3],\n",
    "                [4, 5, 6]])\n",
    "scalar = 2\n",
    "result = arr + scalar  # Broadcasting adds 2 to every element\n",
    "print(result)\n"
   ]
  },
  {
   "cell_type": "code",
   "execution_count": 23,
   "metadata": {},
   "outputs": [
    {
     "name": "stdout",
     "output_type": "stream",
     "text": [
      "[[11 22 33]\n",
      " [14 25 36]]\n"
     ]
    }
   ],
   "source": [
    "'''How They Work Together\n",
    "Vectorization speeds up calculations.\n",
    "Broadcasting handles shape mismatches.'''\n",
    "arr1 = np.array([[1, 2, 3],\n",
    "                 [4, 5, 6]])\n",
    "arr2 = np.array([10, 20, 30])  # Shape mismatch handled by broadcasting\n",
    "result = arr1 + arr2\n",
    "print(result)\n"
   ]
  },
  {
   "cell_type": "code",
   "execution_count": null,
   "metadata": {},
   "outputs": [],
   "source": [
    "'''Why Use Them?\n",
    "Fast: No loops = faster calculations.\n",
    "Simple: Short, clean code.\n",
    "Efficient: Saves memory and effort.'''"
   ]
  }
 ],
 "metadata": {
  "kernelspec": {
   "display_name": "Python 3",
   "language": "python",
   "name": "python3"
  },
  "language_info": {
   "codemirror_mode": {
    "name": "ipython",
    "version": 3
   },
   "file_extension": ".py",
   "mimetype": "text/x-python",
   "name": "python",
   "nbconvert_exporter": "python",
   "pygments_lexer": "ipython3",
   "version": "3.12.6"
  }
 },
 "nbformat": 4,
 "nbformat_minor": 2
}
